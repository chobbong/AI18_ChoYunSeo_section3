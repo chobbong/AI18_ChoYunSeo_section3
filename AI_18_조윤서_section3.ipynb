{
  "nbformat": 4,
  "nbformat_minor": 0,
  "metadata": {
    "colab": {
      "provenance": []
    },
    "kernelspec": {
      "name": "python3",
      "display_name": "Python 3"
    },
    "language_info": {
      "name": "python"
    }
  },
  "cells": [
    {
      "cell_type": "code",
      "execution_count": null,
      "metadata": {
        "colab": {
          "base_uri": "https://localhost:8080/",
          "height": 473
        },
        "id": "gJX0a6XdhwMa",
        "outputId": "516d7d56-3240-461f-bb29-253b66a7d460"
      },
      "outputs": [
        {
          "output_type": "stream",
          "name": "stdout",
          "text": [
            "\r[*********************100%***********************]  1 of 1 completed\n"
          ]
        },
        {
          "output_type": "execute_result",
          "data": {
            "text/plain": [
              "                  Open        High         Low       Close   Adj Close  \\\n",
              "Date                                                                     \n",
              "1986-03-13    0.088542    0.101563    0.088542    0.097222    0.060657   \n",
              "1986-03-14    0.097222    0.102431    0.097222    0.100694    0.062823   \n",
              "1986-03-17    0.100694    0.103299    0.100694    0.102431    0.063907   \n",
              "1986-03-18    0.102431    0.103299    0.098958    0.099826    0.062281   \n",
              "1986-03-19    0.099826    0.100694    0.097222    0.098090    0.061198   \n",
              "...                ...         ...         ...         ...         ...   \n",
              "2023-05-08  310.130005  310.200012  306.089996  308.649994  308.649994   \n",
              "2023-05-09  308.000000  310.040009  306.309998  307.000000  307.000000   \n",
              "2023-05-10  308.619995  313.000000  307.670013  312.309998  312.309998   \n",
              "2023-05-11  310.100006  311.119995  306.260010  310.109985  310.109985   \n",
              "2023-05-12  310.549988  310.649994  306.600006  308.970001  308.970001   \n",
              "\n",
              "                Volume  \n",
              "Date                    \n",
              "1986-03-13  1031788800  \n",
              "1986-03-14   308160000  \n",
              "1986-03-17   133171200  \n",
              "1986-03-18    67766400  \n",
              "1986-03-19    47894400  \n",
              "...                ...  \n",
              "2023-05-08    21318600  \n",
              "2023-05-09    21340800  \n",
              "2023-05-10    30078000  \n",
              "2023-05-11    31680200  \n",
              "2023-05-12    19758100  \n",
              "\n",
              "[9368 rows x 6 columns]"
            ],
            "text/html": [
              "\n",
              "  <div id=\"df-6ab45968-a763-4296-961b-0960def6e24d\">\n",
              "    <div class=\"colab-df-container\">\n",
              "      <div>\n",
              "<style scoped>\n",
              "    .dataframe tbody tr th:only-of-type {\n",
              "        vertical-align: middle;\n",
              "    }\n",
              "\n",
              "    .dataframe tbody tr th {\n",
              "        vertical-align: top;\n",
              "    }\n",
              "\n",
              "    .dataframe thead th {\n",
              "        text-align: right;\n",
              "    }\n",
              "</style>\n",
              "<table border=\"1\" class=\"dataframe\">\n",
              "  <thead>\n",
              "    <tr style=\"text-align: right;\">\n",
              "      <th></th>\n",
              "      <th>Open</th>\n",
              "      <th>High</th>\n",
              "      <th>Low</th>\n",
              "      <th>Close</th>\n",
              "      <th>Adj Close</th>\n",
              "      <th>Volume</th>\n",
              "    </tr>\n",
              "    <tr>\n",
              "      <th>Date</th>\n",
              "      <th></th>\n",
              "      <th></th>\n",
              "      <th></th>\n",
              "      <th></th>\n",
              "      <th></th>\n",
              "      <th></th>\n",
              "    </tr>\n",
              "  </thead>\n",
              "  <tbody>\n",
              "    <tr>\n",
              "      <th>1986-03-13</th>\n",
              "      <td>0.088542</td>\n",
              "      <td>0.101563</td>\n",
              "      <td>0.088542</td>\n",
              "      <td>0.097222</td>\n",
              "      <td>0.060657</td>\n",
              "      <td>1031788800</td>\n",
              "    </tr>\n",
              "    <tr>\n",
              "      <th>1986-03-14</th>\n",
              "      <td>0.097222</td>\n",
              "      <td>0.102431</td>\n",
              "      <td>0.097222</td>\n",
              "      <td>0.100694</td>\n",
              "      <td>0.062823</td>\n",
              "      <td>308160000</td>\n",
              "    </tr>\n",
              "    <tr>\n",
              "      <th>1986-03-17</th>\n",
              "      <td>0.100694</td>\n",
              "      <td>0.103299</td>\n",
              "      <td>0.100694</td>\n",
              "      <td>0.102431</td>\n",
              "      <td>0.063907</td>\n",
              "      <td>133171200</td>\n",
              "    </tr>\n",
              "    <tr>\n",
              "      <th>1986-03-18</th>\n",
              "      <td>0.102431</td>\n",
              "      <td>0.103299</td>\n",
              "      <td>0.098958</td>\n",
              "      <td>0.099826</td>\n",
              "      <td>0.062281</td>\n",
              "      <td>67766400</td>\n",
              "    </tr>\n",
              "    <tr>\n",
              "      <th>1986-03-19</th>\n",
              "      <td>0.099826</td>\n",
              "      <td>0.100694</td>\n",
              "      <td>0.097222</td>\n",
              "      <td>0.098090</td>\n",
              "      <td>0.061198</td>\n",
              "      <td>47894400</td>\n",
              "    </tr>\n",
              "    <tr>\n",
              "      <th>...</th>\n",
              "      <td>...</td>\n",
              "      <td>...</td>\n",
              "      <td>...</td>\n",
              "      <td>...</td>\n",
              "      <td>...</td>\n",
              "      <td>...</td>\n",
              "    </tr>\n",
              "    <tr>\n",
              "      <th>2023-05-08</th>\n",
              "      <td>310.130005</td>\n",
              "      <td>310.200012</td>\n",
              "      <td>306.089996</td>\n",
              "      <td>308.649994</td>\n",
              "      <td>308.649994</td>\n",
              "      <td>21318600</td>\n",
              "    </tr>\n",
              "    <tr>\n",
              "      <th>2023-05-09</th>\n",
              "      <td>308.000000</td>\n",
              "      <td>310.040009</td>\n",
              "      <td>306.309998</td>\n",
              "      <td>307.000000</td>\n",
              "      <td>307.000000</td>\n",
              "      <td>21340800</td>\n",
              "    </tr>\n",
              "    <tr>\n",
              "      <th>2023-05-10</th>\n",
              "      <td>308.619995</td>\n",
              "      <td>313.000000</td>\n",
              "      <td>307.670013</td>\n",
              "      <td>312.309998</td>\n",
              "      <td>312.309998</td>\n",
              "      <td>30078000</td>\n",
              "    </tr>\n",
              "    <tr>\n",
              "      <th>2023-05-11</th>\n",
              "      <td>310.100006</td>\n",
              "      <td>311.119995</td>\n",
              "      <td>306.260010</td>\n",
              "      <td>310.109985</td>\n",
              "      <td>310.109985</td>\n",
              "      <td>31680200</td>\n",
              "    </tr>\n",
              "    <tr>\n",
              "      <th>2023-05-12</th>\n",
              "      <td>310.549988</td>\n",
              "      <td>310.649994</td>\n",
              "      <td>306.600006</td>\n",
              "      <td>308.970001</td>\n",
              "      <td>308.970001</td>\n",
              "      <td>19758100</td>\n",
              "    </tr>\n",
              "  </tbody>\n",
              "</table>\n",
              "<p>9368 rows × 6 columns</p>\n",
              "</div>\n",
              "      <button class=\"colab-df-convert\" onclick=\"convertToInteractive('df-6ab45968-a763-4296-961b-0960def6e24d')\"\n",
              "              title=\"Convert this dataframe to an interactive table.\"\n",
              "              style=\"display:none;\">\n",
              "        \n",
              "  <svg xmlns=\"http://www.w3.org/2000/svg\" height=\"24px\"viewBox=\"0 0 24 24\"\n",
              "       width=\"24px\">\n",
              "    <path d=\"M0 0h24v24H0V0z\" fill=\"none\"/>\n",
              "    <path d=\"M18.56 5.44l.94 2.06.94-2.06 2.06-.94-2.06-.94-.94-2.06-.94 2.06-2.06.94zm-11 1L8.5 8.5l.94-2.06 2.06-.94-2.06-.94L8.5 2.5l-.94 2.06-2.06.94zm10 10l.94 2.06.94-2.06 2.06-.94-2.06-.94-.94-2.06-.94 2.06-2.06.94z\"/><path d=\"M17.41 7.96l-1.37-1.37c-.4-.4-.92-.59-1.43-.59-.52 0-1.04.2-1.43.59L10.3 9.45l-7.72 7.72c-.78.78-.78 2.05 0 2.83L4 21.41c.39.39.9.59 1.41.59.51 0 1.02-.2 1.41-.59l7.78-7.78 2.81-2.81c.8-.78.8-2.07 0-2.86zM5.41 20L4 18.59l7.72-7.72 1.47 1.35L5.41 20z\"/>\n",
              "  </svg>\n",
              "      </button>\n",
              "      \n",
              "  <style>\n",
              "    .colab-df-container {\n",
              "      display:flex;\n",
              "      flex-wrap:wrap;\n",
              "      gap: 12px;\n",
              "    }\n",
              "\n",
              "    .colab-df-convert {\n",
              "      background-color: #E8F0FE;\n",
              "      border: none;\n",
              "      border-radius: 50%;\n",
              "      cursor: pointer;\n",
              "      display: none;\n",
              "      fill: #1967D2;\n",
              "      height: 32px;\n",
              "      padding: 0 0 0 0;\n",
              "      width: 32px;\n",
              "    }\n",
              "\n",
              "    .colab-df-convert:hover {\n",
              "      background-color: #E2EBFA;\n",
              "      box-shadow: 0px 1px 2px rgba(60, 64, 67, 0.3), 0px 1px 3px 1px rgba(60, 64, 67, 0.15);\n",
              "      fill: #174EA6;\n",
              "    }\n",
              "\n",
              "    [theme=dark] .colab-df-convert {\n",
              "      background-color: #3B4455;\n",
              "      fill: #D2E3FC;\n",
              "    }\n",
              "\n",
              "    [theme=dark] .colab-df-convert:hover {\n",
              "      background-color: #434B5C;\n",
              "      box-shadow: 0px 1px 3px 1px rgba(0, 0, 0, 0.15);\n",
              "      filter: drop-shadow(0px 1px 2px rgba(0, 0, 0, 0.3));\n",
              "      fill: #FFFFFF;\n",
              "    }\n",
              "  </style>\n",
              "\n",
              "      <script>\n",
              "        const buttonEl =\n",
              "          document.querySelector('#df-6ab45968-a763-4296-961b-0960def6e24d button.colab-df-convert');\n",
              "        buttonEl.style.display =\n",
              "          google.colab.kernel.accessAllowed ? 'block' : 'none';\n",
              "\n",
              "        async function convertToInteractive(key) {\n",
              "          const element = document.querySelector('#df-6ab45968-a763-4296-961b-0960def6e24d');\n",
              "          const dataTable =\n",
              "            await google.colab.kernel.invokeFunction('convertToInteractive',\n",
              "                                                     [key], {});\n",
              "          if (!dataTable) return;\n",
              "\n",
              "          const docLinkHtml = 'Like what you see? Visit the ' +\n",
              "            '<a target=\"_blank\" href=https://colab.research.google.com/notebooks/data_table.ipynb>data table notebook</a>'\n",
              "            + ' to learn more about interactive tables.';\n",
              "          element.innerHTML = '';\n",
              "          dataTable['output_type'] = 'display_data';\n",
              "          await google.colab.output.renderOutput(dataTable, element);\n",
              "          const docLink = document.createElement('div');\n",
              "          docLink.innerHTML = docLinkHtml;\n",
              "          element.appendChild(docLink);\n",
              "        }\n",
              "      </script>\n",
              "    </div>\n",
              "  </div>\n",
              "  "
            ]
          },
          "metadata": {},
          "execution_count": 43
        }
      ],
      "source": [
        "import warnings\n",
        "import yfinance as yf\n",
        "from matplotlib.figure import Figure\n",
        "import pandas as pd \n",
        "import numpy as np \n",
        "from pandas_datareader import data as pdr\n",
        "import datetime\n",
        "warnings. filterwarnings('ignore')\n",
        "\n",
        "yf.pdr_override()\n",
        "start = (1980,1,4)\n",
        "start = datetime.datetime(*start)\n",
        "end = datetime.date.today()\n",
        "\n",
        "data = pdr.get_data_yahoo(\"MSFT\", start, end)\n",
        "data"
      ]
    },
    {
      "cell_type": "code",
      "source": [
        "close = data['Close']\n",
        "\n",
        "close[start:end].plot();"
      ],
      "metadata": {
        "colab": {
          "base_uri": "https://localhost:8080/",
          "height": 422
        },
        "id": "3GWr2agwkn5s",
        "outputId": "31f66c44-702c-47bf-b0d3-3e3c1e134f7a"
      },
      "execution_count": null,
      "outputs": [
        {
          "output_type": "display_data",
          "data": {
            "text/plain": [
              "<Figure size 640x480 with 1 Axes>"
            ],
            "image/png": "[encoded data removed]"
          },
          "metadata": {}
        }
      ]
    },
    {
      "cell_type": "code",
      "source": [
        "len(close)"
      ],
      "metadata": {
        "id": "0UTAX2WKwzpn",
        "outputId": "635edd3d-4081-4606-ecb8-1966059cef04",
        "colab": {
          "base_uri": "https://localhost:8080/"
        }
      },
      "execution_count": null,
      "outputs": [
        {
          "output_type": "execute_result",
          "data": {
            "text/plain": [
              "9368"
            ]
          },
          "metadata": {},
          "execution_count": 45
        }
      ]
    },
    {
      "cell_type": "code",
      "source": [
        "start_date = '2023-03-01'\n",
        "end_date = datetime.date.today()"
      ],
      "metadata": {
        "id": "sBe_hYOSaHbr"
      },
      "execution_count": null,
      "outputs": []
    },
    {
      "cell_type": "code",
      "source": [
        "base = close[start_date:end_date]\n",
        "base"
      ],
      "metadata": {
        "colab": {
          "base_uri": "https://localhost:8080/"
        },
        "id": "WJ4t1cwtkp_L",
        "outputId": "d53f596a-3de7-4b95-e159-87cedf6fe200"
      },
      "execution_count": null,
      "outputs": [
        {
          "output_type": "execute_result",
          "data": {
            "text/plain": [
              "Date\n",
              "2023-03-01    246.270004\n",
              "2023-03-02    251.110001\n",
              "2023-03-03    255.289993\n",
              "2023-03-06    256.869995\n",
              "2023-03-07    254.149994\n",
              "2023-03-08    253.699997\n",
              "2023-03-09    252.320007\n",
              "2023-03-10    248.589996\n",
              "2023-03-13    253.919998\n",
              "2023-03-14    260.790009\n",
              "2023-03-15    265.440002\n",
              "2023-03-16    276.200012\n",
              "2023-03-17    279.429993\n",
              "2023-03-20    272.230011\n",
              "2023-03-21    273.779999\n",
              "2023-03-22    272.290009\n",
              "2023-03-23    277.660004\n",
              "2023-03-24    280.570007\n",
              "2023-03-27    276.380005\n",
              "2023-03-28    275.230011\n",
              "2023-03-29    280.510010\n",
              "2023-03-30    284.049988\n",
              "2023-03-31    288.299988\n",
              "2023-04-03    287.230011\n",
              "2023-04-04    287.179993\n",
              "2023-04-05    284.339996\n",
              "2023-04-06    291.600006\n",
              "2023-04-10    289.390015\n",
              "2023-04-11    282.829987\n",
              "2023-04-12    283.489990\n",
              "2023-04-13    289.839996\n",
              "2023-04-14    286.140015\n",
              "2023-04-17    288.799988\n",
              "2023-04-18    288.369995\n",
              "2023-04-19    288.450012\n",
              "2023-04-20    286.109985\n",
              "2023-04-21    285.760010\n",
              "2023-04-24    281.769989\n",
              "2023-04-25    275.420013\n",
              "2023-04-26    295.369995\n",
              "2023-04-27    304.829987\n",
              "2023-04-28    307.260010\n",
              "2023-05-01    305.559998\n",
              "2023-05-02    305.410004\n",
              "2023-05-03    304.399994\n",
              "2023-05-04    305.410004\n",
              "2023-05-05    310.649994\n",
              "2023-05-08    308.649994\n",
              "2023-05-09    307.000000\n",
              "2023-05-10    312.309998\n",
              "2023-05-11    310.109985\n",
              "2023-05-12    308.970001\n",
              "Name: Close, dtype: float64"
            ]
          },
          "metadata": {},
          "execution_count": 47
        }
      ]
    },
    {
      "cell_type": "code",
      "source": [
        "# 정규화\n",
        "base_norm = (base-base.min()) / (base.max()-base.min())\n",
        "base_norm "
      ],
      "metadata": {
        "colab": {
          "base_uri": "https://localhost:8080/"
        },
        "id": "alDH51s1lhQb",
        "outputId": "6f4aebf2-e79c-4808-b971-298ced9d89b2"
      },
      "execution_count": null,
      "outputs": [
        {
          "output_type": "execute_result",
          "data": {
            "text/plain": [
              "Date\n",
              "2023-03-01    0.000000\n",
              "2023-03-02    0.073289\n",
              "2023-03-03    0.136584\n",
              "2023-03-06    0.160509\n",
              "2023-03-07    0.119321\n",
              "2023-03-08    0.112507\n",
              "2023-03-09    0.091611\n",
              "2023-03-10    0.035130\n",
              "2023-03-13    0.115839\n",
              "2023-03-14    0.219867\n",
              "2023-03-15    0.290279\n",
              "2023-03-16    0.453210\n",
              "2023-03-17    0.502120\n",
              "2023-03-20    0.393095\n",
              "2023-03-21    0.416566\n",
              "2023-03-22    0.394004\n",
              "2023-03-23    0.475318\n",
              "2023-03-24    0.519382\n",
              "2023-03-27    0.455936\n",
              "2023-03-28    0.438522\n",
              "2023-03-29    0.518474\n",
              "2023-03-30    0.572077\n",
              "2023-03-31    0.636432\n",
              "2023-04-03    0.620230\n",
              "2023-04-04    0.619473\n",
              "2023-04-05    0.576469\n",
              "2023-04-06    0.686402\n",
              "2023-04-10    0.652938\n",
              "2023-04-11    0.553604\n",
              "2023-04-12    0.563598\n",
              "2023-04-13    0.659752\n",
              "2023-04-14    0.603725\n",
              "2023-04-17    0.644003\n",
              "2023-04-18    0.637492\n",
              "2023-04-19    0.638704\n",
              "2023-04-20    0.603271\n",
              "2023-04-21    0.597971\n",
              "2023-04-24    0.537553\n",
              "2023-04-25    0.441399\n",
              "2023-04-26    0.743489\n",
              "2023-04-27    0.886735\n",
              "2023-04-28    0.923531\n",
              "2023-05-01    0.897789\n",
              "2023-05-02    0.895518\n",
              "2023-05-03    0.880224\n",
              "2023-05-04    0.895518\n",
              "2023-05-05    0.974864\n",
              "2023-05-08    0.944579\n",
              "2023-05-09    0.919594\n",
              "2023-05-10    1.000000\n",
              "2023-05-11    0.966687\n",
              "2023-05-12    0.949425\n",
              "Name: Close, dtype: float64"
            ]
          },
          "metadata": {},
          "execution_count": 48
        }
      ]
    },
    {
      "cell_type": "code",
      "source": [
        "# 윈도우 사이즈\n",
        "window_size = len(base)\n",
        "\n",
        "# 예측 기간 \n",
        "next_date = 5\n",
        "# 검색 횟수  \n",
        "moving_cnt = len(close) - window_size - next_date -1 "
      ],
      "metadata": {
        "id": "PrL9X8Pklv49"
      },
      "execution_count": null,
      "outputs": []
    },
    {
      "cell_type": "code",
      "source": [
        "moving_cnt"
      ],
      "metadata": {
        "colab": {
          "base_uri": "https://localhost:8080/"
        },
        "id": "4SDvxJNfwR6C",
        "outputId": "2faa024c-9479-4b8b-b875-ba7e22aadb69"
      },
      "execution_count": null,
      "outputs": [
        {
          "output_type": "execute_result",
          "data": {
            "text/plain": [
              "9310"
            ]
          },
          "metadata": {},
          "execution_count": 50
        }
      ]
    },
    {
      "cell_type": "code",
      "source": [
        "window_size"
      ],
      "metadata": {
        "colab": {
          "base_uri": "https://localhost:8080/"
        },
        "id": "di4UoSLawlKB",
        "outputId": "17d26f77-c853-416e-e703-fcb817353e14"
      },
      "execution_count": null,
      "outputs": [
        {
          "output_type": "execute_result",
          "data": {
            "text/plain": [
              "52"
            ]
          },
          "metadata": {},
          "execution_count": 51
        }
      ]
    },
    {
      "cell_type": "code",
      "source": [
        "def cosine_similarity(x,y): \n",
        "    return np.dot(x,y) / (np.sqrt(np.dot(x,x))* np.sqrt(np.dot(y,y)))"
      ],
      "metadata": {
        "id": "DXA2u6cFmkV5"
      },
      "execution_count": null,
      "outputs": []
    },
    {
      "cell_type": "code",
      "source": [
        "sim_list=[]\n",
        "for i in range (moving_cnt):\n",
        "    target = close[i:i+window_size]\n",
        "    # Normalize\n",
        "    target_norm = (target - target.min()) / (target.max() - target.min())\n",
        "    # 코사인 유사도 저장 \n",
        "    cos_similarity = cosine_similarity(base_norm, target_norm)\n",
        "    sim_list.append(cos_similarity)"
      ],
      "metadata": {
        "id": "e1FfP1ZCm5rZ"
      },
      "execution_count": null,
      "outputs": []
    },
    {
      "cell_type": "code",
      "source": [
        "pd.Series(sim_list).sort_values(ascending=False).head(20)"
      ],
      "metadata": {
        "colab": {
          "base_uri": "https://localhost:8080/"
        },
        "id": "t2ipytwGn3K1",
        "outputId": "1426e69b-077b-47ff-a154-d1d3ae8fdad6"
      },
      "execution_count": null,
      "outputs": [
        {
          "output_type": "execute_result",
          "data": {
            "text/plain": [
              "8888    0.990291\n",
              "6500    0.990195\n",
              "8889    0.990148\n",
              "2260    0.990072\n",
              "6501    0.989932\n",
              "5174    0.989711\n",
              "5173    0.989347\n",
              "2259    0.989323\n",
              "8890    0.989295\n",
              "8887    0.989137\n",
              "8468    0.988941\n",
              "8465    0.988751\n",
              "5172    0.988700\n",
              "8469    0.988519\n",
              "8466    0.988333\n",
              "5166    0.987999\n",
              "5957    0.987939\n",
              "8467    0.987831\n",
              "8474    0.987763\n",
              "5167    0.987560\n",
              "dtype: float64"
            ]
          },
          "metadata": {},
          "execution_count": 54
        }
      ]
    },
    {
      "cell_type": "code",
      "source": [
        "import matplotlib.pyplot as plt\n",
        "idx = 8888\n",
        "top_ = close[idx:idx+window_size+next_date]\n",
        "top_norm = (top_ - top_.min()) / (top_.max() - top_.min())\n",
        "\n",
        "plt.plot(base_norm.values, label='base')\n",
        "plt.plot(top_norm.values, label='target')\n",
        "plt.axvline(x=len(base_norm)-1, c='r', linestyle='--')\n",
        "plt.axvspan(len(base_norm.values)-1, len(top_norm.values)-1, facecolor='yellow', alpha=0.3)\n",
        "plt.legend()\n",
        "plt.show()"
      ],
      "metadata": {
        "colab": {
          "base_uri": "https://localhost:8080/",
          "height": 430
        },
        "id": "5anIP7W9oobv",
        "outputId": "5fe4674f-baf5-4875-c971-206234aa375b"
      },
      "execution_count": null,
      "outputs": [
        {
          "output_type": "display_data",
          "data": {
            "text/plain": [
              "<Figure size 640x480 with 1 Axes>"
            ],
            "image/png": "[encoded data removed]"
          },
          "metadata": {}
        }
      ]
    },
    {
      "cell_type": "code",
      "source": [
        "class PatternFinder():\n",
        "  \n",
        "  def __init__(self, period=5):\n",
        "      self.period = period\n",
        "\n",
        "  def set_stock (self, code: str):     \n",
        "      self.code = code\n",
        "      self.data = pdr.get_data_yahoo(code)\n",
        "      self.close = self.data['Close']\n",
        "      self.data['Change'] = self.close.pct_change()  # 'Change'를 계산하고 데이터프레임에 추가\n",
        "      self.change = self.data['Change']\n",
        "      return self.data$\n",
        "\n",
        "  def search(self, start_date, end_date, threshold=0.98):\n",
        "      base = self.close[start_date:end_date]\n",
        "      self.base_norm = (base - base.min()) / (base.max()-base.min())\n",
        "      self.base = base\n",
        "\n",
        "      display(base)\n",
        "\n",
        "      window_size = len(base)\n",
        "      moving_cnt = len(self.data) - window_size - self.period - 1\n",
        "      cos_sims = self.__cosine_sims(moving_cnt, window_size)\n",
        "\n",
        "      self.window_size = window_size\n",
        "      cos_sims = cos_sims [cos_sims > threshold]\n",
        "      return cos_sims\n",
        "\n",
        "  def __cosine_sims (self, moving_cnt, window_size):\n",
        "      def cosine_similarity(x, y):\n",
        "          return np.dot(x, y) / (np.sqrt(np.dot(x, x)) * np.sqrt(np.dot(y, y)))\n",
        "\n",
        "          # 유사도 저장 딕셔너리\n",
        "      sim_list = []\n",
        "      for i in range(moving_cnt):\n",
        "          target = self.close[i:i+window_size]\n",
        "          # Normalize\n",
        "          target_norm = (target - target.min()) / (target.max() - target.min())\n",
        "      \n",
        "          # 코사인 유사도 저장\n",
        "          cos_similarity = cosine_similarity(self.base_norm, target_norm)\n",
        "          # 코사인 유사도 <i(인덱스), 시계열데이터 함께 저장\n",
        "          sim_list.append(cos_similarity)\n",
        "\n",
        "      return pd.Series(sim_list).sort_values(ascending=False)\n",
        "  def plot_pattern(self, idx, period=5):\n",
        "      if period != self.period:\n",
        "          self.period = period\n",
        "\n",
        "      top = self.close[idx:idx+self.window_size+period]\n",
        "      top_norm =  (top - top.min()) / (top.max() -top.min())\n",
        "\n",
        "      plt.plot(self.base_norm.values, label='base')\n",
        "      plt.plot(top_norm.values, label='target')\n",
        "      plt.axvline(x=len(self.base_norm)-1, c='r', linestyle='--')\n",
        "      plt.axvspan(len(self.base_norm.values)-1, len(top_norm.values)-1, facecolor='yellow', alpha=0.3)\n",
        "      plt.legend()\n",
        "      plt.show()\n",
        "\n",
        "      preds = self.change[idx+self.window_size: idx+self.window_size+period]\n",
        "      display(preds)\n",
        "      print(f'pred: {preds.mean()*100} %')\n",
        "\n",
        "  def stat_prediction(self, result, period=5):\n",
        "    idx_list = list(result.keys())\n",
        "    mean_list = []\n",
        "    for idx in idx_list:\n",
        "        pred = self.change[idx+self.window_size : idx+self.window_size+period]\n",
        "        mean_list.append(pred.mean())\n",
        "    return np.array(mean_list)\n"
      ],
      "metadata": {
        "id": "u3HI47JNpiEw"
      },
      "execution_count": null,
      "outputs": []
    },
    {
      "cell_type": "code",
      "source": [
        "p = PatternFinder()"
      ],
      "metadata": {
        "id": "38QiG31isS8r"
      },
      "execution_count": null,
      "outputs": []
    },
    {
      "cell_type": "code",
      "source": [
        "p.set_stock('005930.KS') # 삼성전자"
      ],
      "metadata": {
        "colab": {
          "base_uri": "https://localhost:8080/",
          "height": 473
        },
        "id": "vMAPiVOqu44h",
        "outputId": "3995160d-e882-4ded-ac98-c9daea1a1719"
      },
      "execution_count": null,
      "outputs": [
        {
          "output_type": "stream",
          "name": "stdout",
          "text": [
            "\r[*********************100%***********************]  1 of 1 completed\n"
          ]
        },
        {
          "output_type": "execute_result",
          "data": {
            "text/plain": [
              "               Open     High      Low    Close     Adj Close    Volume  \\\n",
              "Date                                                                     \n",
              "2000-01-04   6000.0   6110.0   5660.0   6110.0   4537.110352  74195000   \n",
              "2000-01-05   5800.0   6060.0   5520.0   5580.0   4143.547363  74680000   \n",
              "2000-01-06   5750.0   5780.0   5580.0   5620.0   4173.250488  54390000   \n",
              "2000-01-07   5560.0   5670.0   5360.0   5540.0   4113.844727  40305000   \n",
              "2000-01-10   5600.0   5770.0   5580.0   5770.0   4284.637207  46880000   \n",
              "...             ...      ...      ...      ...           ...       ...   \n",
              "2023-05-08  66300.0  66300.0  65400.0  65900.0  65900.000000   9405365   \n",
              "2023-05-09  65800.0  65800.0  65100.0  65300.0  65300.000000   9366861   \n",
              "2023-05-10  65500.0  65500.0  64300.0  64600.0  64600.000000  13057727   \n",
              "2023-05-11  64700.0  65100.0  64200.0  64200.0  64200.000000  11648905   \n",
              "2023-05-12  63700.0  64600.0  63600.0  64100.0  64100.000000   8693913   \n",
              "\n",
              "              Change  \n",
              "Date                  \n",
              "2000-01-04       NaN  \n",
              "2000-01-05 -0.086743  \n",
              "2000-01-06  0.007168  \n",
              "2000-01-07 -0.014235  \n",
              "2000-01-10  0.041516  \n",
              "...              ...  \n",
              "2023-05-08  0.012289  \n",
              "2023-05-09 -0.009105  \n",
              "2023-05-10 -0.010720  \n",
              "2023-05-11 -0.006192  \n",
              "2023-05-12 -0.001558  \n",
              "\n",
              "[5862 rows x 7 columns]"
            ],
            "text/html": [
              "\n",
              "  <div id=\"df-90388f61-ff17-4145-8ae0-4281152de124\">\n",
              "    <div class=\"colab-df-container\">\n",
              "      <div>\n",
              "<style scoped>\n",
              "    .dataframe tbody tr th:only-of-type {\n",
              "        vertical-align: middle;\n",
              "    }\n",
              "\n",
              "    .dataframe tbody tr th {\n",
              "        vertical-align: top;\n",
              "    }\n",
              "\n",
              "    .dataframe thead th {\n",
              "        text-align: right;\n",
              "    }\n",
              "</style>\n",
              "<table border=\"1\" class=\"dataframe\">\n",
              "  <thead>\n",
              "    <tr style=\"text-align: right;\">\n",
              "      <th></th>\n",
              "      <th>Open</th>\n",
              "      <th>High</th>\n",
              "      <th>Low</th>\n",
              "      <th>Close</th>\n",
              "      <th>Adj Close</th>\n",
              "      <th>Volume</th>\n",
              "      <th>Change</th>\n",
              "    </tr>\n",
              "    <tr>\n",
              "      <th>Date</th>\n",
              "      <th></th>\n",
              "      <th></th>\n",
              "      <th></th>\n",
              "      <th></th>\n",
              "      <th></th>\n",
              "      <th></th>\n",
              "      <th></th>\n",
              "    </tr>\n",
              "  </thead>\n",
              "  <tbody>\n",
              "    <tr>\n",
              "      <th>2000-01-04</th>\n",
              "      <td>6000.0</td>\n",
              "      <td>6110.0</td>\n",
              "      <td>5660.0</td>\n",
              "      <td>6110.0</td>\n",
              "      <td>4537.110352</td>\n",
              "      <td>74195000</td>\n",
              "      <td>NaN</td>\n",
              "    </tr>\n",
              "    <tr>\n",
              "      <th>2000-01-05</th>\n",
              "      <td>5800.0</td>\n",
              "      <td>6060.0</td>\n",
              "      <td>5520.0</td>\n",
              "      <td>5580.0</td>\n",
              "      <td>4143.547363</td>\n",
              "      <td>74680000</td>\n",
              "      <td>-0.086743</td>\n",
              "    </tr>\n",
              "    <tr>\n",
              "      <th>2000-01-06</th>\n",
              "      <td>5750.0</td>\n",
              "      <td>5780.0</td>\n",
              "      <td>5580.0</td>\n",
              "      <td>5620.0</td>\n",
              "      <td>4173.250488</td>\n",
              "      <td>54390000</td>\n",
              "      <td>0.007168</td>\n",
              "    </tr>\n",
              "    <tr>\n",
              "      <th>2000-01-07</th>\n",
              "      <td>5560.0</td>\n",
              "      <td>5670.0</td>\n",
              "      <td>5360.0</td>\n",
              "      <td>5540.0</td>\n",
              "      <td>4113.844727</td>\n",
              "      <td>40305000</td>\n",
              "      <td>-0.014235</td>\n",
              "    </tr>\n",
              "    <tr>\n",
              "      <th>2000-01-10</th>\n",
              "      <td>5600.0</td>\n",
              "      <td>5770.0</td>\n",
              "      <td>5580.0</td>\n",
              "      <td>5770.0</td>\n",
              "      <td>4284.637207</td>\n",
              "      <td>46880000</td>\n",
              "      <td>0.041516</td>\n",
              "    </tr>\n",
              "    <tr>\n",
              "      <th>...</th>\n",
              "      <td>...</td>\n",
              "      <td>...</td>\n",
              "      <td>...</td>\n",
              "      <td>...</td>\n",
              "      <td>...</td>\n",
              "      <td>...</td>\n",
              "      <td>...</td>\n",
              "    </tr>\n",
              "    <tr>\n",
              "      <th>2023-05-08</th>\n",
              "      <td>66300.0</td>\n",
              "      <td>66300.0</td>\n",
              "      <td>65400.0</td>\n",
              "      <td>65900.0</td>\n",
              "      <td>65900.000000</td>\n",
              "      <td>9405365</td>\n",
              "      <td>0.012289</td>\n",
              "    </tr>\n",
              "    <tr>\n",
              "      <th>2023-05-09</th>\n",
              "      <td>65800.0</td>\n",
              "      <td>65800.0</td>\n",
              "      <td>65100.0</td>\n",
              "      <td>65300.0</td>\n",
              "      <td>65300.000000</td>\n",
              "      <td>9366861</td>\n",
              "      <td>-0.009105</td>\n",
              "    </tr>\n",
              "    <tr>\n",
              "      <th>2023-05-10</th>\n",
              "      <td>65500.0</td>\n",
              "      <td>65500.0</td>\n",
              "      <td>64300.0</td>\n",
              "      <td>64600.0</td>\n",
              "      <td>64600.000000</td>\n",
              "      <td>13057727</td>\n",
              "      <td>-0.010720</td>\n",
              "    </tr>\n",
              "    <tr>\n",
              "      <th>2023-05-11</th>\n",
              "      <td>64700.0</td>\n",
              "      <td>65100.0</td>\n",
              "      <td>64200.0</td>\n",
              "      <td>64200.0</td>\n",
              "      <td>64200.000000</td>\n",
              "      <td>11648905</td>\n",
              "      <td>-0.006192</td>\n",
              "    </tr>\n",
              "    <tr>\n",
              "      <th>2023-05-12</th>\n",
              "      <td>63700.0</td>\n",
              "      <td>64600.0</td>\n",
              "      <td>63600.0</td>\n",
              "      <td>64100.0</td>\n",
              "      <td>64100.000000</td>\n",
              "      <td>8693913</td>\n",
              "      <td>-0.001558</td>\n",
              "    </tr>\n",
              "  </tbody>\n",
              "</table>\n",
              "<p>5862 rows × 7 columns</p>\n",
              "</div>\n",
              "      <button class=\"colab-df-convert\" onclick=\"convertToInteractive('df-90388f61-ff17-4145-8ae0-4281152de124')\"\n",
              "              title=\"Convert this dataframe to an interactive table.\"\n",
              "              style=\"display:none;\">\n",
              "        \n",
              "  <svg xmlns=\"http://www.w3.org/2000/svg\" height=\"24px\"viewBox=\"0 0 24 24\"\n",
              "       width=\"24px\">\n",
              "    <path d=\"M0 0h24v24H0V0z\" fill=\"none\"/>\n",
              "    <path d=\"M18.56 5.44l.94 2.06.94-2.06 2.06-.94-2.06-.94-.94-2.06-.94 2.06-2.06.94zm-11 1L8.5 8.5l.94-2.06 2.06-.94-2.06-.94L8.5 2.5l-.94 2.06-2.06.94zm10 10l.94 2.06.94-2.06 2.06-.94-2.06-.94-.94-2.06-.94 2.06-2.06.94z\"/><path d=\"M17.41 7.96l-1.37-1.37c-.4-.4-.92-.59-1.43-.59-.52 0-1.04.2-1.43.59L10.3 9.45l-7.72 7.72c-.78.78-.78 2.05 0 2.83L4 21.41c.39.39.9.59 1.41.59.51 0 1.02-.2 1.41-.59l7.78-7.78 2.81-2.81c.8-.78.8-2.07 0-2.86zM5.41 20L4 18.59l7.72-7.72 1.47 1.35L5.41 20z\"/>\n",
              "  </svg>\n",
              "      </button>\n",
              "      \n",
              "  <style>\n",
              "    .colab-df-container {\n",
              "      display:flex;\n",
              "      flex-wrap:wrap;\n",
              "      gap: 12px;\n",
              "    }\n",
              "\n",
              "    .colab-df-convert {\n",
              "      background-color: #E8F0FE;\n",
              "      border: none;\n",
              "      border-radius: 50%;\n",
              "      cursor: pointer;\n",
              "      display: none;\n",
              "      fill: #1967D2;\n",
              "      height: 32px;\n",
              "      padding: 0 0 0 0;\n",
              "      width: 32px;\n",
              "    }\n",
              "\n",
              "    .colab-df-convert:hover {\n",
              "      background-color: #E2EBFA;\n",
              "      box-shadow: 0px 1px 2px rgba(60, 64, 67, 0.3), 0px 1px 3px 1px rgba(60, 64, 67, 0.15);\n",
              "      fill: #174EA6;\n",
              "    }\n",
              "\n",
              "    [theme=dark] .colab-df-convert {\n",
              "      background-color: #3B4455;\n",
              "      fill: #D2E3FC;\n",
              "    }\n",
              "\n",
              "    [theme=dark] .colab-df-convert:hover {\n",
              "      background-color: #434B5C;\n",
              "      box-shadow: 0px 1px 3px 1px rgba(0, 0, 0, 0.15);\n",
              "      filter: drop-shadow(0px 1px 2px rgba(0, 0, 0, 0.3));\n",
              "      fill: #FFFFFF;\n",
              "    }\n",
              "  </style>\n",
              "\n",
              "      <script>\n",
              "        const buttonEl =\n",
              "          document.querySelector('#df-90388f61-ff17-4145-8ae0-4281152de124 button.colab-df-convert');\n",
              "        buttonEl.style.display =\n",
              "          google.colab.kernel.accessAllowed ? 'block' : 'none';\n",
              "\n",
              "        async function convertToInteractive(key) {\n",
              "          const element = document.querySelector('#df-90388f61-ff17-4145-8ae0-4281152de124');\n",
              "          const dataTable =\n",
              "            await google.colab.kernel.invokeFunction('convertToInteractive',\n",
              "                                                     [key], {});\n",
              "          if (!dataTable) return;\n",
              "\n",
              "          const docLinkHtml = 'Like what you see? Visit the ' +\n",
              "            '<a target=\"_blank\" href=https://colab.research.google.com/notebooks/data_table.ipynb>data table notebook</a>'\n",
              "            + ' to learn more about interactive tables.';\n",
              "          element.innerHTML = '';\n",
              "          dataTable['output_type'] = 'display_data';\n",
              "          await google.colab.output.renderOutput(dataTable, element);\n",
              "          const docLink = document.createElement('div');\n",
              "          docLink.innerHTML = docLinkHtml;\n",
              "          element.appendChild(docLink);\n",
              "        }\n",
              "      </script>\n",
              "    </div>\n",
              "  </div>\n",
              "  "
            ]
          },
          "metadata": {},
          "execution_count": 60
        }
      ]
    },
    {
      "cell_type": "code",
      "source": [
        "result = p.search('2023-03-01','2023-05-12')"
      ],
      "metadata": {
        "colab": {
          "base_uri": "https://localhost:8080/",
          "height": 946
        },
        "id": "PsaKe3CBu_Al",
        "outputId": "5ffeb689-55b6-4b67-cd7f-72bbd8dc593d"
      },
      "execution_count": null,
      "outputs": [
        {
          "output_type": "display_data",
          "data": {
            "text/plain": [
              "Date\n",
              "2023-03-02    60800.0\n",
              "2023-03-03    60500.0\n",
              "2023-03-06    61500.0\n",
              "2023-03-07    60700.0\n",
              "2023-03-08    60300.0\n",
              "2023-03-09    60100.0\n",
              "2023-03-10    59500.0\n",
              "2023-03-13    60000.0\n",
              "2023-03-14    59000.0\n",
              "2023-03-15    59800.0\n",
              "2023-03-16    59900.0\n",
              "2023-03-17    61300.0\n",
              "2023-03-20    60200.0\n",
              "2023-03-21    60300.0\n",
              "2023-03-22    61100.0\n",
              "2023-03-23    62300.0\n",
              "2023-03-24    63000.0\n",
              "2023-03-27    62100.0\n",
              "2023-03-28    62900.0\n",
              "2023-03-29    62700.0\n",
              "2023-03-30    63200.0\n",
              "2023-03-31    64000.0\n",
              "2023-04-03    63100.0\n",
              "2023-04-04    63600.0\n",
              "2023-04-05    63900.0\n",
              "2023-04-06    62300.0\n",
              "2023-04-07    65000.0\n",
              "2023-04-10    65700.0\n",
              "2023-04-11    65900.0\n",
              "2023-04-12    66000.0\n",
              "2023-04-13    66100.0\n",
              "2023-04-14    65100.0\n",
              "2023-04-17    65300.0\n",
              "2023-04-18    65600.0\n",
              "2023-04-19    65500.0\n",
              "2023-04-20    65300.0\n",
              "2023-04-21    65700.0\n",
              "2023-04-24    65200.0\n",
              "2023-04-25    63600.0\n",
              "2023-04-26    64100.0\n",
              "2023-04-27    64600.0\n",
              "2023-04-28    65500.0\n",
              "2023-05-02    65700.0\n",
              "2023-05-03    65400.0\n",
              "2023-05-04    65100.0\n",
              "2023-05-08    65900.0\n",
              "2023-05-09    65300.0\n",
              "2023-05-10    64600.0\n",
              "2023-05-11    64200.0\n",
              "2023-05-12    64100.0\n",
              "Name: Close, dtype: float64"
            ]
          },
          "metadata": {}
        }
      ]
    },
    {
      "cell_type": "code",
      "source": [
        "moving_cnt"
      ],
      "metadata": {
        "colab": {
          "base_uri": "https://localhost:8080/"
        },
        "id": "IXzYkRkFV97n",
        "outputId": "3f32153a-c897-4158-cb77-441280554ef9"
      },
      "execution_count": null,
      "outputs": [
        {
          "output_type": "execute_result",
          "data": {
            "text/plain": [
              "9310"
            ]
          },
          "metadata": {},
          "execution_count": 70
        }
      ]
    },
    {
      "cell_type": "code",
      "source": [
        "result"
      ],
      "metadata": {
        "colab": {
          "base_uri": "https://localhost:8080/"
        },
        "id": "VAoKLNTpzrtg",
        "outputId": "4bd9db66-5562-4754-fb44-bb346f88d45e"
      },
      "execution_count": null,
      "outputs": [
        {
          "output_type": "execute_result",
          "data": {
            "text/plain": [
              "4325    0.985255\n",
              "2991    0.983801\n",
              "2345    0.983700\n",
              "4778    0.983629\n",
              "4779    0.983446\n",
              "2990    0.983070\n",
              "2346    0.983010\n",
              "4082    0.982866\n",
              "2992    0.982083\n",
              "4326    0.981870\n",
              "4777    0.981351\n",
              "4780    0.981241\n",
              "2776    0.981019\n",
              "4081    0.980877\n",
              "1302    0.980552\n",
              "2775    0.980333\n",
              "4324    0.980172\n",
              "2774    0.980116\n",
              "dtype: float64"
            ]
          },
          "metadata": {},
          "execution_count": 62
        }
      ]
    },
    {
      "cell_type": "code",
      "source": [
        "p.plot_pattern(4325)"
      ],
      "metadata": {
        "colab": {
          "base_uri": "https://localhost:8080/",
          "height": 573
        },
        "id": "S0gcfFShz2bM",
        "outputId": "e8914951-cee4-476f-aa65-18b7f6c1588f"
      },
      "execution_count": null,
      "outputs": [
        {
          "output_type": "display_data",
          "data": {
            "text/plain": [
              "<Figure size 640x480 with 1 Axes>"
            ],
            "image/png": "[encoded data removed]"
          },
          "metadata": {}
        },
        {
          "output_type": "display_data",
          "data": {
            "text/plain": [
              "Date\n",
              "2017-04-19   -0.014458\n",
              "2017-04-20   -0.015159\n",
              "2017-04-21    0.011917\n",
              "2017-04-24    0.011776\n",
              "2017-04-25    0.035403\n",
              "Name: Change, dtype: float64"
            ]
          },
          "metadata": {}
        },
        {
          "output_type": "stream",
          "name": "stdout",
          "text": [
            "pred: 0.5895720286419315 %\n"
          ]
        }
      ]
    },
    {
      "cell_type": "code",
      "source": [],
      "metadata": {
        "id": "EjExYty9ZOUr"
      },
      "execution_count": null,
      "outputs": []
    }
  ]
}